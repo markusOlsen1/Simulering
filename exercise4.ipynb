{
 "cells": [
  {
   "cell_type": "code",
   "execution_count": 105,
   "metadata": {},
   "outputs": [],
   "source": [
    "import random\n",
    "import numpy as np\n",
    "import matplotlib.pyplot as plt\n",
    "import scipy.stats as scp\n",
    "random.seed(1)\n"
   ]
  },
  {
   "cell_type": "markdown",
   "metadata": {},
   "source": [
    "Exercise 4 Exercise 4\n",
    "Write a discrete event simulation program for a blocking system,\n",
    "i.e. a system with m service units and no waiting room. The offered\n",
    "traffic A is the product of the mean arrival rate and the mean\n",
    "service time.\n",
    "1. The arrival process is modelled as a Poisson process. Report the\n",
    "fraction of blocked customers, and a confidence interval for this\n",
    "fraction. Choose the service time distribution as exponential.\n",
    "Parameters: m = 10, mean service time = 8 time units, mean\n",
    "time between customers = 1 time unit (corresponding to an\n",
    "offered traffic of 8 Erlang), 10 x 10.000 customers.\n",
    "This system is sufficiently simple such that the analytical\n",
    "solution is known. See the last slide for the solution. Verify your\n",
    "simulation program using this knowledge.\u0000\n",
    "2. The arrival process is modelled as a renewal process using the\n",
    "same parameters as in Part 1 when possible. Report the\n",
    "fraction of blocked customers, and a confidence interval for this\n",
    "fraction for at least the following two cases\n",
    "(a) Experiment with Erlang distributed inter arrival times The\n",
    "Erlang distribution should have a mean of 1\n",
    "(b) hyper exponential inter arrival times. The parameters for\n",
    "the hyper exponential distribution should be\n",
    "p1 = 0.8, λ1 = 0.8333, p2 = 0.2, λ2 = 5.0.\n",
    "3. The arrival process is again a Poisson process like in Part 1.\n",
    "Experiment with different service time distributions with the\n",
    "same mean service time and m as in Part 1 and Part 2.\n",
    "(a) Constant service time\n",
    "(b) Pareto distributed service times with at least k = 1.05 and\n",
    "k = 2.05.\u0000\n",
    "(c) Choose one or two other distributions.\n",
    "4. Compare confidence intervals for Parts 1, 2, and 3 then\n",
    "interpret and explain differences if any."
   ]
  },
  {
   "cell_type": "code",
   "execution_count": 8,
   "metadata": {},
   "outputs": [],
   "source": [
    "#define variables: \n",
    "m = 10 \n",
    "mean_service_time = 8\n",
    "mean_time_between_customer = 1\n",
    "lambA = 1/mean_time_between_customer\n",
    "lambS = 1/mean_service_time"
   ]
  },
  {
   "cell_type": "code",
   "execution_count": 64,
   "metadata": {},
   "outputs": [],
   "source": [
    "def St():\n",
    "    U1 = np.random.uniform(0,1)\n",
    "    S = -np.log(U1)/lambS\n",
    "    return S \n",
    "    "
   ]
  },
  {
   "cell_type": "code",
   "execution_count": 61,
   "metadata": {},
   "outputs": [],
   "source": [
    "def At():\n",
    "    U1 = np.random.uniform(0,1)\n",
    "    A=-np.log(U1)/lambA\n",
    "    return A"
   ]
  },
  {
   "cell_type": "code",
   "execution_count": 168,
   "metadata": {},
   "outputs": [],
   "source": [
    "def sim(At,St):\n",
    "    t = 0\n",
    "    event_list = []\n",
    "    count_no_service = 0 \n",
    "    count_service = 0\n",
    "    m = 10\n",
    "    total_costumer = 0\n",
    "    \n",
    "    while total_costumer<=10000:\n",
    "\n",
    "        t = t+At()\n",
    "        service_time = St()\n",
    "\n",
    "        for i,time in enumerate(event_list):\n",
    "            if t >= time:\n",
    "                event_list.pop(i)\n",
    "                m=m+1\n",
    "\n",
    "        if m == 0: \n",
    "            count_no_service = count_no_service + 1 \n",
    "            \n",
    "        else:\n",
    "            event_list.append(t+service_time)\n",
    "            count_service = count_service+1\n",
    "            m = m-1\n",
    "        total_costumer = total_costumer+1\n",
    "        \n",
    "    return count_no_service/total_costumer"
   ]
  },
  {
   "cell_type": "code",
   "execution_count": 252,
   "metadata": {},
   "outputs": [],
   "source": [
    "#Confidence interval\n",
    "def conf(ratio,n):\n",
    "    theta = np.mean(ratio)\n",
    "    theta2 = theta**2\n",
    "    ratio2 = np.zeros(len(ratio))\n",
    "\n",
    "    for i,num in enumerate(ratio):\n",
    "        ratio2[i] = num**2\n",
    "    ratio2 = np.sum(ratio2)\n",
    "\n",
    "    S = 1/(n-1)*(ratio2-n*theta2)\n",
    "    print(S)\n",
    "    t0 = scp.norm.ppf(0.975)\n",
    "    # Confidence interval: \n",
    "    return [theta + np.sqrt(S)/np.sqrt(n)*t0, theta - np.sqrt(S)/np.sqrt(n)*t0]"
   ]
  },
  {
   "cell_type": "code",
   "execution_count": 253,
   "metadata": {},
   "outputs": [
    {
     "name": "stdout",
     "output_type": "stream",
     "text": [
      "2.453164898044702e-05\n"
     ]
    },
    {
     "data": {
      "text/plain": [
       "[0.12476763997268159, 0.11862802046127502]"
      ]
     },
     "execution_count": 253,
     "metadata": {},
     "output_type": "execute_result"
    }
   ],
   "source": [
    "# simulation: \n",
    "ratio = []\n",
    "n=10\n",
    "for i in range(n):\n",
    "    ratio.append(sim(At,St))\n",
    "\n",
    "conf(ratio,n)\n"
   ]
  },
  {
   "cell_type": "code",
   "execution_count": 127,
   "metadata": {},
   "outputs": [],
   "source": [
    "# Erling distribution impementation: \n",
    "# lambda og n skal være lig hinaanden for at opnå mean på 1 da mean(Y) = n/lambda\n",
    "def AtE():\n",
    "    n = 1\n",
    "    U1 = np.random.uniform(0,1,n)\n",
    "    A = -1/lambA*np.log(np.product(U1))\n",
    "    return A"
   ]
  },
  {
   "cell_type": "code",
   "execution_count": 158,
   "metadata": {},
   "outputs": [
    {
     "name": "stdout",
     "output_type": "stream",
     "text": [
      "7.369959267779996e-05\n"
     ]
    },
    {
     "data": {
      "text/plain": [
       "[0.12837413452942523, 0.11842118593852798]"
      ]
     },
     "execution_count": 158,
     "metadata": {},
     "output_type": "execute_result"
    }
   ],
   "source": [
    "ratioErling = []\n",
    "n=10\n",
    "for i in range(n): \n",
    "    ratioErling.append(sim(AtE,St))\n",
    "conf(ratioErling,n)"
   ]
  },
  {
   "cell_type": "code",
   "execution_count": 170,
   "metadata": {},
   "outputs": [],
   "source": [
    "#Exponentiel: \n",
    "#Vigitgt independent random variabler for lambda og for A\n",
    "def AtEx():\n",
    "    p =[0.8, 0.2]\n",
    "    lamb = [0.8333, 5]\n",
    "\n",
    "    U1 = np.random.uniform(0,1)\n",
    "    U2 = np.random.uniform(0,1)\n",
    "    if U1 <p[0]:\n",
    "        I=1\n",
    "    else:\n",
    "        I=2\n",
    "    A = - 1/lamb[I-1]*np.log(U2)\n",
    "    return A\n",
    "\n"
   ]
  },
  {
   "cell_type": "code",
   "execution_count": 172,
   "metadata": {},
   "outputs": [
    {
     "name": "stdout",
     "output_type": "stream",
     "text": [
      "2.4716834163773793e-05\n"
     ]
    },
    {
     "data": {
      "text/plain": [
       "[0.1446877641187911, 0.13892387471732529]"
      ]
     },
     "execution_count": 172,
     "metadata": {},
     "output_type": "execute_result"
    }
   ],
   "source": [
    "ratioExp = []\n",
    "n=10\n",
    "for i in range(n): \n",
    "    ratioExp.append(sim(AtEx,St))\n",
    "conf(ratioExp,n)\n"
   ]
  },
  {
   "cell_type": "code",
   "execution_count": 180,
   "metadata": {},
   "outputs": [],
   "source": [
    "def StC():\n",
    "    A=8\n",
    "    return A"
   ]
  },
  {
   "cell_type": "code",
   "execution_count": 181,
   "metadata": {},
   "outputs": [
    {
     "name": "stdout",
     "output_type": "stream",
     "text": [
      "1.9957008398753375e-05\n"
     ]
    },
    {
     "data": {
      "text/plain": [
       "[0.1255873256019096, 0.1204080748580444]"
      ]
     },
     "execution_count": 181,
     "metadata": {},
     "output_type": "execute_result"
    }
   ],
   "source": [
    "# pointe laver interval (1 event med variance ikke 2)\n",
    "ratioStC = []\n",
    "for i in range(n): \n",
    "    ratioStC.append(sim(At,StC))\n",
    "conf(ratioStC,n)\n",
    "\n"
   ]
  },
  {
   "cell_type": "code",
   "execution_count": 247,
   "metadata": {},
   "outputs": [],
   "source": [
    "# Perato: \n",
    "def StP():\n",
    "    k = 1.05\n",
    "    B = 8 * (k-1) / k \n",
    "    U1 = np.random.uniform(0,1)\n",
    "    A = B *(U1**(-1/k))\n",
    "    return A "
   ]
  },
  {
   "cell_type": "code",
   "execution_count": 249,
   "metadata": {},
   "outputs": [
    {
     "name": "stdout",
     "output_type": "stream",
     "text": [
      "1.204470205025404e-05\n"
     ]
    },
    {
     "data": {
      "text/plain": [
       "[0.003871625359678251, -0.0001519973224819698]"
      ]
     },
     "execution_count": 249,
     "metadata": {},
     "output_type": "execute_result"
    }
   ],
   "source": [
    "# Perato confidence interval\n",
    "ratioStP = []\n",
    "for i in range(n): \n",
    "    ratioStP.append(sim(At,StP))\n",
    "conf(ratioStP,n)"
   ]
  },
  {
   "cell_type": "code",
   "execution_count": 210,
   "metadata": {},
   "outputs": [],
   "source": [
    "def StU():\n",
    "    dist = 7\n",
    "    m=8\n",
    "    a = m-dist\n",
    "    b = m+dist\n",
    "\n",
    "    U1 = np.random.uniform(0,1)\n",
    "    A = a+(b-a)*U1\n",
    "    return A\n"
   ]
  },
  {
   "cell_type": "code",
   "execution_count": 211,
   "metadata": {},
   "outputs": [
    {
     "name": "stdout",
     "output_type": "stream",
     "text": [
      "2.4924903658907205e-05\n"
     ]
    },
    {
     "data": {
      "text/plain": [
       "[0.12367197177775023, 0.11788387263780818]"
      ]
     },
     "execution_count": 211,
     "metadata": {},
     "output_type": "execute_result"
    }
   ],
   "source": [
    "# Uniform  S(t) confidence interval:  \n",
    "ratioStU = []\n",
    "for i in range(n): \n",
    "    ratioStU.append(sim(At,StU))\n",
    "conf(ratioStU,n)\n"
   ]
  },
  {
   "cell_type": "code",
   "execution_count": 245,
   "metadata": {},
   "outputs": [],
   "source": [
    "# Normalfordeling: \n",
    "def StN():\n",
    "  \n",
    "    U1 = np.random.uniform(0,1)\n",
    "    U2 = np.random.uniform(0,1)\n",
    "    R = np.sqrt(-2 * np.log(U1))\n",
    "    theta = 2 * np.pi * U2\n",
    "\n",
    "    A = R * np.sin(theta)+8\n",
    "    return A"
   ]
  },
  {
   "cell_type": "code",
   "execution_count": 246,
   "metadata": {},
   "outputs": [
    {
     "name": "stdout",
     "output_type": "stream",
     "text": [
      "2.268446288058692e-05\n"
     ]
    },
    {
     "data": {
      "text/plain": [
       "[0.12617857600209942, 0.1206567404662537]"
      ]
     },
     "execution_count": 246,
     "metadata": {},
     "output_type": "execute_result"
    }
   ],
   "source": [
    "# Uniform  S(t) confidence interval:  \n",
    "ratioStN= []\n",
    "for i in range(n): \n",
    "    ratioStN.append(sim(At,StN))\n",
    "conf(ratioStN,n)\n"
   ]
  },
  {
   "cell_type": "code",
   "execution_count": 166,
   "metadata": {},
   "outputs": [
    {
     "name": "stdout",
     "output_type": "stream",
     "text": [
      "1.1996026988397481\n",
      "1.5555088988305221\n",
      "1.0080130126582616\n",
      "1.0306772839537564\n",
      "0.9909463016227106\n",
      "1.0001962223561611\n"
     ]
    }
   ],
   "source": [
    "sum=[]\n",
    "for i in range(10000):\n",
    "    sum.append(AtEx())\n",
    "mean= np.mean(sum)\n",
    "print(mean)\n",
    "print(np.var(sum))\n",
    "\n",
    "sum1=[]\n",
    "for i in range(10000):\n",
    "    sum1.append(AtE())\n",
    "mean1= np.mean(sum1)\n",
    "print(mean1)\n",
    "print(np.var(sum1))\n",
    "\n",
    "sum2=[]\n",
    "for i in range(10000):\n",
    "    sum2.append(At())\n",
    "mean2= np.mean(sum2)\n",
    "print(mean2)\n",
    "print(np.var(sum2))"
   ]
  },
  {
   "cell_type": "code",
   "execution_count": null,
   "metadata": {},
   "outputs": [],
   "source": []
  }
 ],
 "metadata": {
  "interpreter": {
   "hash": "9430fa962368ed4387251a9d1485ac69452138ff4fccfa03223f275ccfdee3b3"
  },
  "kernelspec": {
   "display_name": "Python 3.7.3 ('base')",
   "language": "python",
   "name": "python3"
  },
  "language_info": {
   "codemirror_mode": {
    "name": "ipython",
    "version": 3
   },
   "file_extension": ".py",
   "mimetype": "text/x-python",
   "name": "python",
   "nbconvert_exporter": "python",
   "pygments_lexer": "ipython3",
   "version": "3.7.3"
  },
  "orig_nbformat": 4
 },
 "nbformat": 4,
 "nbformat_minor": 2
}
