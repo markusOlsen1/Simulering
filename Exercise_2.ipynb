{
 "cells": [
  {
   "cell_type": "code",
   "execution_count": 31,
   "metadata": {},
   "outputs": [],
   "source": [
    "import random\n",
    "import numpy as np\n",
    "import matplotlib.pyplot as plt\n",
    "random.seed(1)"
   ]
  },
  {
   "cell_type": "markdown",
   "metadata": {},
   "source": [
    "Discrete random variables\n",
    "In the excercise you can use a build in procedure for generating\n",
    "random numbers. Compare the results obtained in simulations with\n",
    "expected results. Use histograms (and tests).\n",
    "1. Choose a value for the probability parameter p in the geometric\n",
    "distribution and simulate 10,000 outcomes. You can experiment\n",
    "with a small, moderate and large value if you like.\n",
    "2. Simulate the 6 point distribution with\n",
    "X 1 2 3 4 5 6\n",
    "pi 7/48 5/48 1/8 1/16 1/4 5/16\n",
    "(a) by applying a direct (crude) method\n",
    "\n",
    "(b) by using the the rejction method\n",
    "(c) by using the Alias method\n",
    "3. Compare the three different methods using adequate criteria,\n",
    "then discuss the results.\n",
    "4. Give recommendations of how to choose the best suited\n",
    "method in different settings, i.e., discuss the advantages and\n",
    "drawbacks of each method. If time permits substantiate by\n",
    "running experiments."
   ]
  },
  {
   "cell_type": "code",
   "execution_count": 34,
   "metadata": {},
   "outputs": [
    {
     "data": {
      "image/png": "[encoded data removed]",
      "text/plain": [
       "<Figure size 432x288 with 1 Axes>"
      ]
     },
     "metadata": {
      "needs_background": "light"
     },
     "output_type": "display_data"
    }
   ],
   "source": [
    "#generate numbers with chosen p: \n",
    "p = 0.5\n",
    "sample_size = 10000\n",
    "r = np.random.geometric(p,sample_size)\n",
    "\n",
    "(n,bins,patches) = plt.hist(r,bins =10)"
   ]
  },
  {
   "cell_type": "code",
   "execution_count": 38,
   "metadata": {},
   "outputs": [
    {
     "name": "stdout",
     "output_type": "stream",
     "text": [
      "1\n",
      "5000.0\n",
      "2\n",
      "2500.0\n",
      "3\n",
      "1250.0\n",
      "4\n",
      "625.0\n",
      "5\n",
      "312.5\n",
      "6\n",
      "156.25\n",
      "7\n",
      "78.125\n",
      "8\n",
      "39.0625\n",
      "9\n",
      "19.53125\n",
      "10\n",
      "9.765625\n",
      "2526.9447749999995\n"
     ]
    }
   ],
   "source": [
    "# Testing with chi^2 test: \n",
    "\n",
    "classes = np.shape(bins)[0]-1\n",
    "\n",
    "chi =0\n",
    "for i in range(1,classes+1):\n",
    "    print(i)\n",
    "    n_expected = (1-p)**(i-1)*p * sample_size\n",
    "    print(n_expected)\n",
    "    chi = chi+((n[i-1]-n_expected)**2)/n_expected\n",
    "\n",
    "print(chi)\n",
    "\n"
   ]
  },
  {
   "cell_type": "code",
   "execution_count": 41,
   "metadata": {},
   "outputs": [],
   "source": [
    "# simulate the 6 datapoints: \n",
    "X = [i for i in range(1,7)]\n",
    "p = [7/48,5/48,1/8,1/16,1/4,5/16]"
   ]
  },
  {
   "cell_type": "code",
   "execution_count": 77,
   "metadata": {},
   "outputs": [],
   "source": [
    "#simulate uniform distribution:\n",
    "\n",
    "interval=np.zeros(6)\n",
    "interval[0]=p[0]\n",
    "for i in range(1,6):\n",
    "    interval[i] = p[i]+interval[i-1]\n",
    "\n",
    "uni = np.random.uniform(0,1,sample_size)\n",
    "for i in range (sample_size):\n",
    "    for j in range(6):\n",
    "        if uni[i]<interval[j]:\n",
    "            uni[i]=j+1\n"
   ]
  },
  {
   "cell_type": "code",
   "execution_count": 78,
   "metadata": {},
   "outputs": [
    {
     "name": "stdout",
     "output_type": "stream",
     "text": [
      "[6. 6. 4. ... 2. 5. 6.]\n"
     ]
    }
   ],
   "source": [
    "# Testing with chi^2 test for p distribution: \n",
    "classes = np.shape(bins)[0]-1\n",
    "\n",
    "chi =0\n",
    "for i in range(1,classes+1):\n",
    "    print(i)\n",
    "    n_expected = (1-p)**(i-1)*p * sample_size\n",
    "    print(n_expected)\n",
    "    chi = chi+((n[i-1]-n_expected)**2)/n_expected\n",
    "\n",
    "print(chi)\n"
   ]
  },
  {
   "cell_type": "code",
   "execution_count": null,
   "metadata": {},
   "outputs": [],
   "source": []
  }
 ],
 "metadata": {
  "interpreter": {
   "hash": "9430fa962368ed4387251a9d1485ac69452138ff4fccfa03223f275ccfdee3b3"
  },
  "kernelspec": {
   "display_name": "Python 3.7.3 ('base')",
   "language": "python",
   "name": "python3"
  },
  "language_info": {
   "codemirror_mode": {
    "name": "ipython",
    "version": 3
   },
   "file_extension": ".py",
   "mimetype": "text/x-python",
   "name": "python",
   "nbconvert_exporter": "python",
   "pygments_lexer": "ipython3",
   "version": "3.7.3"
  },
  "orig_nbformat": 4
 },
 "nbformat": 4,
 "nbformat_minor": 2
}
