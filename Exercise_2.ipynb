{
 "cells": [
  {
   "cell_type": "code",
   "execution_count": null,
   "metadata": {},
   "outputs": [],
   "source": [
    "import random\n",
    "random.seed(1)"
   ]
  },
  {
   "cell_type": "markdown",
   "metadata": {},
   "source": [
    "Discrete random variables\n",
    "In the excercise you can use a build in procedure for generating\n",
    "random numbers. Compare the results obtained in simulations with\n",
    "expected results. Use histograms (and tests).\n",
    "1. Choose a value for the probability parameter p in the geometric\n",
    "distribution and simulate 10,000 outcomes. You can experiment\n",
    "with a small, moderate and large value if you like.\n",
    "2. Simulate the 6 point distribution with\n",
    "X 1 2 3 4 5 6\n",
    "pi 7/48 5/48 1/8 1/16 1/4 5/16\n",
    "(a) by applying a direct (crude) method\n",
    "\n",
    "(b) by using the the rejction method\n",
    "(c) by using the Alias method\n",
    "3. Compare the three different methods using adequate criteria,\n",
    "then discuss the results.\n",
    "4. Give recommendations of how to choose the best suited\n",
    "method in different settings, i.e., discuss the advantages and\n",
    "drawbacks of each method. If time permits substantiate by\n",
    "running experiments."
   ]
  },
  {
   "cell_type": "code",
   "execution_count": null,
   "metadata": {},
   "outputs": [],
   "source": [
    "# properbillity for geometric distribution\n",
    "p = "
   ]
  },
  {
   "cell_type": "code",
   "execution_count": null,
   "metadata": {},
   "outputs": [],
   "source": []
  }
 ],
 "metadata": {
  "language_info": {
   "name": "python"
  },
  "orig_nbformat": 4
 },
 "nbformat": 4,
 "nbformat_minor": 2
}
