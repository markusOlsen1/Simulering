{
 "cells": [
  {
   "cell_type": "code",
   "execution_count": 1,
   "metadata": {},
   "outputs": [],
   "source": [
    "%reset\n",
    "import random\n",
    "import numpy as np\n",
    "import matplotlib.pyplot as plt\n",
    "random.seed(1)\n"
   ]
  },
  {
   "cell_type": "markdown",
   "metadata": {},
   "source": [
    "Discrete random variables\n",
    "In the excercise you can use a build in procedure for generating\n",
    "random numbers. Compare the results obtained in simulations with\n",
    "expected results. Use histograms (and tests).\n",
    "1. Choose a value for the probability parameter p in the geometric\n",
    "distribution and simulate 10,000 outcomes. You can experiment\n",
    "with a small, moderate and large value if you like.\n",
    "2. Simulate the 6 point distribution with\n",
    "X 1 2 3 4 5 6\n",
    "pi 7/48 5/48 1/8 1/16 1/4 5/16\n",
    "(a) by applying a direct (crude) method\n",
    "\n",
    "(b) by using the the rejction method\n",
    "(c) by using the Alias method\n",
    "3. Compare the three different methods using adequate criteria,\n",
    "then discuss the results.\n",
    "4. Give recommendations of how to choose the best suited\n",
    "method in different settings, i.e., discuss the advantages and\n",
    "drawbacks of each method. If time permits substantiate by\n",
    "running experiments."
   ]
  },
  {
   "cell_type": "code",
   "execution_count": 2,
   "metadata": {},
   "outputs": [
    {
     "data": {
      "image/png": "[encoded data removed]",
      "text/plain": [
       "<Figure size 432x288 with 1 Axes>"
      ]
     },
     "metadata": {
      "needs_background": "light"
     },
     "output_type": "display_data"
    }
   ],
   "source": [
    "#generate numbers with chosen p: \n",
    "p = 0.5\n",
    "sample_size = 10000\n",
    "r = np.random.geometric(p,sample_size)\n",
    "\n",
    "(n,bins,patches) = plt.hist(r,bins =10)"
   ]
  },
  {
   "cell_type": "code",
   "execution_count": 3,
   "metadata": {},
   "outputs": [
    {
     "name": "stdout",
     "output_type": "stream",
     "text": [
      "2371.955775\n"
     ]
    }
   ],
   "source": [
    "# Testing with chi^2 test: \n",
    "\n",
    "classes = np.shape(bins)[0]-1\n",
    "\n",
    "chi =0\n",
    "for i in range(1,classes+1):\n",
    "    n_expected = (1-p)**(i-1)*p * sample_size\n",
    "    chi = chi+((n[i-1]-n_expected)**2)/n_expected\n",
    "\n",
    "print(chi)\n",
    "\n"
   ]
  },
  {
   "cell_type": "code",
   "execution_count": 4,
   "metadata": {},
   "outputs": [],
   "source": [
    "# simulate the 6 datapoints: \n",
    "X = [i for i in range(1,7)]\n",
    "p = [7/48,5/48,1/8,1/16,1/4,5/16]"
   ]
  },
  {
   "cell_type": "code",
   "execution_count": 5,
   "metadata": {},
   "outputs": [
    {
     "data": {
      "image/png": "[encoded data removed]",
      "text/plain": [
       "<Figure size 432x288 with 1 Axes>"
      ]
     },
     "metadata": {
      "needs_background": "light"
     },
     "output_type": "display_data"
    }
   ],
   "source": [
    "#simulate uniform distribution:\n",
    "\n",
    "interval=np.zeros(6)\n",
    "interval[0]=p[0]\n",
    "for i in range(1,6):\n",
    "    interval[i] = p[i]+interval[i-1]\n",
    "\n",
    "uni = np.random.uniform(0,1,sample_size)\n",
    "for i in range (sample_size):\n",
    "    for j in range(6):\n",
    "        if uni[i]<interval[j]:\n",
    "            uni[i]=j+1\n",
    "(n,bins,patches)=plt.hist(uni,bins=6)"
   ]
  },
  {
   "cell_type": "code",
   "execution_count": 6,
   "metadata": {},
   "outputs": [
    {
     "name": "stdout",
     "output_type": "stream",
     "text": [
      "9.056445714285708\n"
     ]
    }
   ],
   "source": [
    "# Testing with chi^2 test for p distribution: \n",
    "classes = 6\n",
    "\n",
    "chi =0\n",
    "for i in range(1,classes+1):\n",
    "    n_expected = p[i-1]*sample_size\n",
    "    chi = chi+((n[i-1]-n_expected)**2)/n_expected\n",
    "    \n",
    "print(chi)\n",
    "\n"
   ]
  },
  {
   "cell_type": "code",
   "execution_count": 7,
   "metadata": {},
   "outputs": [
    {
     "data": {
      "image/png": "[encoded data removed]",
      "text/plain": [
       "<Figure size 432x288 with 1 Axes>"
      ]
     },
     "metadata": {
      "needs_background": "light"
     },
     "output_type": "display_data"
    }
   ],
   "source": [
    "# Rejection method: \n",
    "\n",
    "U1 = np.random.uniform(0,1,sample_size)\n",
    "U2 = np.random.uniform(0,1,sample_size)\n",
    "q = []\n",
    "num =[]\n",
    "for i in range(len(p)):\n",
    "    q.append(1-p[i])\n",
    "    num.append(p[i]/q[i])\n",
    "max(num)\n",
    "c=0.45\n",
    "acc = 0\n",
    "V=[]\n",
    "while acc <sample_size:\n",
    "    x = np.random.uniform(0,1)\n",
    "    y= np.random.uniform(0,1)\n",
    "    for i in range(len(q)):\n",
    "        if y<p[i]/(c*q[i]):\n",
    "            acc =acc +1\n",
    "            V.append(i+1)\n",
    "(n,bins,patches)=plt.hist(V,bins=6)\n"
   ]
  },
  {
   "cell_type": "code",
   "execution_count": 8,
   "metadata": {},
   "outputs": [
    {
     "name": "stdout",
     "output_type": "stream",
     "text": [
      "116.28620571428576\n"
     ]
    }
   ],
   "source": [
    "#Chi i anden test for forigående generator:\n",
    "# # Testing with chi^2 test for p distribution: \n",
    "classes = 6\n",
    "\n",
    "chi =0\n",
    "for i in range(1,classes+1):\n",
    "    n_expected = p[i-1]*sample_size\n",
    "    chi = chi+((n[i-1]-n_expected)**2)/n_expected\n",
    "    \n",
    "print(chi)\n",
    "\n",
    " "
   ]
  },
  {
   "cell_type": "code",
   "execution_count": 15,
   "metadata": {},
   "outputs": [
    {
     "data": {
      "text/plain": [
       "(array([1461., 1034., 1231.,  613., 2504., 3157.]),\n",
       " array([1.        , 1.83333333, 2.66666667, 3.5       , 4.33333333,\n",
       "        5.16666667, 6.        ]),\n",
       " <BarContainer object of 6 artists>)"
      ]
     },
     "execution_count": 15,
     "metadata": {},
     "output_type": "execute_result"
    },
    {
     "data": {
      "image/png": "[encoded data removed]",
      "text/plain": [
       "<Figure size 432x288 with 1 Axes>"
      ]
     },
     "metadata": {
      "needs_background": "light"
     },
     "output_type": "display_data"
    }
   ],
   "source": [
    "# Alias method: \n",
    "p = [7/48,5/48,1/8,1/16,1/4,5/16]\n",
    "k = len(p)\n",
    "F = np.zeros(k)\n",
    "L = np.zeros(k,dtype=np.int16)\n",
    "\n",
    "s =[]\n",
    "g =[]\n",
    "for i,p in enumerate(p):\n",
    "    F[i] = p*k\n",
    "\n",
    "    if F[i]>=1:\n",
    "        g.append(i)\n",
    "    if F[i] <=1:\n",
    "        s.append(i)\n",
    "count =0\n",
    "while len(s)>0:\n",
    "\n",
    "    i=g[0]\n",
    "    j=s[0]\n",
    "\n",
    "    L[j]=i\n",
    "    F[i]=F[i]-(1-F[j])\n",
    "    \n",
    "    if F[i] < 1:\n",
    "        s.append(i)\n",
    "    else:\n",
    "        g.append(i)\n",
    "        \n",
    "    s.pop(0)\n",
    "    g.pop(0)\n",
    "    count=count+1\n",
    "rand = []\n",
    "for i in range(sample_size):\n",
    "    U1 = np.random.uniform(0,1)\n",
    "    U2 = np.random.uniform(0,1)\n",
    "    I = int(np.floor(U1*k))\n",
    "    if U2 <=F[I]:\n",
    "        rand.append(I+1)\n",
    "    else:\n",
    "        rand.append(L[I]+1)\n",
    "\n",
    "plt.hist(rand,bins=6)\n"
   ]
  },
  {
   "cell_type": "code",
   "execution_count": 19,
   "metadata": {},
   "outputs": [
    {
     "name": "stdout",
     "output_type": "stream",
     "text": [
      "116.28620571428576\n"
     ]
    }
   ],
   "source": [
    "# CHI i anden test for Alias method: \n",
    "#Chi i anden test for forigående generator:\n",
    "# # Testing with chi^2 test for p distribution: \n",
    "p = [7/48,5/48,1/8,1/16,1/4,5/16]\n",
    "\n",
    "classes = np.shape(bins)[0]-1\n",
    "\n",
    "chi =0\n",
    "for i in range(1,classes+1):\n",
    "    n_expected = p[i-1]*sample_size\n",
    "    chi = chi+((n[i-1]-n_expected)**2)/n_expected\n",
    "    \n",
    "print(chi)\n",
    "\n",
    " "
   ]
  },
  {
   "cell_type": "code",
   "execution_count": 18,
   "metadata": {},
   "outputs": [
    {
     "data": {
      "image/png": "[encoded data removed]",
      "text/plain": [
       "<Figure size 432x288 with 2 Axes>"
      ]
     },
     "metadata": {
      "needs_background": "light"
     },
     "output_type": "display_data"
    }
   ],
   "source": [
    "# generate simulated values for each distribution:\n",
    "\n",
    "## Normal distribution using box-muller\n",
    "\n",
    "U1 = np.random.uniform(0,1,sample_size)\n",
    "U2 = np.random.uniform(0,1,sample_size)\n",
    "R = np.sqrt(-2 * np.log(U1))\n",
    "theta = 2 * np.pi * U2\n",
    "\n",
    "X = R * np.cos(theta)\n",
    "Y = R * np.sin(theta)\n",
    "\n",
    "fig,(ax1,ax2) = plt.subplots(1,2)\n",
    "hist = ax1.hist(X)\n",
    "hist = ax2.hist(Y)\n",
    "plt.show()"
   ]
  },
  {
   "cell_type": "code",
   "execution_count": 11,
   "metadata": {},
   "outputs": [
    {
     "data": {
      "text/plain": [
       "(array([5.589e+03, 2.514e+03, 1.090e+03, 4.530e+02, 2.040e+02, 8.900e+01,\n",
       "        3.500e+01, 1.600e+01, 5.000e+00, 5.000e+00]),\n",
       " array([1.69900564e-04, 2.08799678e+00, 4.17582365e+00, 6.26365053e+00,\n",
       "        8.35147740e+00, 1.04393043e+01, 1.25271312e+01, 1.46149580e+01,\n",
       "        1.67027849e+01, 1.87906118e+01, 2.08784387e+01]),\n",
       " <BarContainer object of 10 artists>)"
      ]
     },
     "execution_count": 11,
     "metadata": {},
     "output_type": "execute_result"
    },
    {
     "data": {
      "image/png": "[encoded data removed]",
      "text/plain": [
       "<Figure size 432x288 with 1 Axes>"
      ]
     },
     "metadata": {
      "needs_background": "light"
     },
     "output_type": "display_data"
    }
   ],
   "source": [
    "#Exponential distribution \n",
    "U1 = np.random.uniform(0,1,sample_size)\n",
    "lamb = 0.4\n",
    "X = -np.log(U1)/lamb\n",
    "\n",
    "plt.hist(X)"
   ]
  },
  {
   "cell_type": "code",
   "execution_count": null,
   "metadata": {},
   "outputs": [],
   "source": []
  }
 ],
 "metadata": {
  "interpreter": {
   "hash": "9430fa962368ed4387251a9d1485ac69452138ff4fccfa03223f275ccfdee3b3"
  },
  "kernelspec": {
   "display_name": "Python 3.7.3 ('base')",
   "language": "python",
   "name": "python3"
  },
  "language_info": {
   "codemirror_mode": {
    "name": "ipython",
    "version": 3
   },
   "file_extension": ".py",
   "mimetype": "text/x-python",
   "name": "python",
   "nbconvert_exporter": "python",
   "pygments_lexer": "ipython3",
   "version": "3.7.3"
  },
  "orig_nbformat": 4
 },
 "nbformat": 4,
 "nbformat_minor": 2
}
