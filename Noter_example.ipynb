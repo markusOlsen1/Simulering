{
 "cells": [
  {
   "cell_type": "code",
   "execution_count": 286,
   "metadata": {},
   "outputs": [],
   "source": [
    "import numpy as np\n",
    "import pandas as pd\n",
    "import matplotlib.pyplot as plt\n",
    "from scipy.stats import chi2\n",
    "from scipy.stats import norm"
   ]
  },
  {
   "cell_type": "markdown",
   "metadata": {},
   "source": [
    "Stochastisk simulation notes and examples: \n",
    "\n",
    "Topics related: \n",
    "- Random number gereration \n",
    "- Random variable generation\n",
    "- The event by event principle\n",
    "- Variance reduction methods\n",
    "\n",
    "Simulation based statistical methods:\n",
    "- Markov chain Monte Carlo\n",
    "- Bootstrap\n",
    "\n",
    "Validation and verification of models\n",
    "\n"
   ]
  },
  {
   "cell_type": "markdown",
   "metadata": {},
   "source": [
    "Exercise 1: \n",
    "\n",
    "Formulate the linear congruential generator: "
   ]
  },
  {
   "cell_type": "code",
   "execution_count": 84,
   "metadata": {},
   "outputs": [],
   "source": [
    "def lcg(M,c,a,x0,sample_size):\n",
    "    if M%1 !=0 or c%1 !=0 or a != 0 or x0 != 0:\n",
    "        pass\n",
    "    disp = True\n",
    "    x = [x0]\n",
    "    u =[x0/M]\n",
    "    for i in range(1,sample_size):\n",
    "        xi = (a*x[i-1]+c)%M\n",
    "        x.append(xi)\n",
    "        u.append(xi/M)\n",
    "        if xi == x0 and disp == True:\n",
    "            print(f\"cycle has a length of {i-1} iterations\")\n",
    "            disp =False\n",
    "    return [x,u]\n",
    "    "
   ]
  },
  {
   "cell_type": "code",
   "execution_count": 265,
   "metadata": {},
   "outputs": [
    {
     "name": "stdout",
     "output_type": "stream",
     "text": [
      "cycle has a length of 521 iterations\n"
     ]
    },
    {
     "data": {
      "image/png": "[encoded data removed]",
      "text/plain": [
       "<Figure size 432x288 with 1 Axes>"
      ]
     },
     "metadata": {
      "needs_background": "light"
     },
     "output_type": "display_data"
    }
   ],
   "source": [
    "sample_size = 10000\n",
    "M = 523\n",
    "c=1\n",
    "a=5\n",
    "x0=3\n",
    "[x,u] = lcg(M = M,c= c,a = a,x0 = x0,sample_size = sample_size)\n",
    "\n",
    "#M=77,a=8,c=6,x0=3 -- Good\n",
    "\n",
    "(n,bins,patches) = plt.hist(u,bins=10)"
   ]
  },
  {
   "cell_type": "markdown",
   "metadata": {},
   "source": [
    "Evaluation the lcg function with Chi^2 test"
   ]
  },
  {
   "cell_type": "code",
   "execution_count": 266,
   "metadata": {},
   "outputs": [
    {
     "name": "stdout",
     "output_type": "stream",
     "text": [
      "1.01\n"
     ]
    }
   ],
   "source": [
    "# CHi i anden test for uniform med samme n_expected : \n",
    "\n",
    "classes = np.shape(bins)[0]-1\n",
    "n_expected = 1/classes*sample_size\n",
    "\n",
    "chi =0\n",
    "for i in range(classes):\n",
    "    chi = chi+((n[i]-n_expected)**2)/n_expected\n",
    "print(chi)\n",
    "\n"
   ]
  },
  {
   "cell_type": "markdown",
   "metadata": {},
   "source": [
    "Testing with "
   ]
  },
  {
   "cell_type": "code",
   "execution_count": 267,
   "metadata": {},
   "outputs": [
    {
     "name": "stdout",
     "output_type": "stream",
     "text": [
      "Adjusted test_statistics:  0.3242678131484286\n"
     ]
    },
    {
     "data": {
      "text/plain": [
       "[<matplotlib.lines.Line2D at 0x128ca0ef0>]"
      ]
     },
     "execution_count": 267,
     "metadata": {},
     "output_type": "execute_result"
    },
    {
     "data": {
      "image/png": "[encoded data removed]",
      "text/plain": [
       "<Figure size 432x288 with 1 Axes>"
      ]
     },
     "metadata": {
      "needs_background": "light"
     },
     "output_type": "display_data"
    }
   ],
   "source": [
    "sortu = np.sort(u)\n",
    "idx = np.linspace(0,1,sample_size)\n",
    "test_statistic = max((abs(sortu-idx)))\n",
    "Adj_test_statistics = (np.sqrt(sample_size)+0.12+(0.11/np.sqrt(sample_size)))*test_statistic\n",
    "print('Adjusted test_statistics: ', Adj_test_statistics)\n",
    "plt.plot(idx,sortu)\n",
    "plt.plot(idx,idx)\n",
    "\n"
   ]
  },
  {
   "cell_type": "markdown",
   "metadata": {},
   "source": [
    "Auto-correlation function with lag = 1:"
   ]
  },
  {
   "cell_type": "code",
   "execution_count": 268,
   "metadata": {},
   "outputs": [
    {
     "data": {
      "text/plain": [
       "<matplotlib.collections.PathCollection at 0x12c062080>"
      ]
     },
     "execution_count": 268,
     "metadata": {},
     "output_type": "execute_result"
    },
    {
     "data": {
      "image/png": "[encoded data removed]",
      "text/plain": [
       "<Figure size 432x288 with 1 Axes>"
      ]
     },
     "metadata": {
      "needs_background": "light"
     },
     "output_type": "display_data"
    }
   ],
   "source": [
    "plt.scatter(u[1:sample_size],u[0:sample_size-1])\n"
   ]
  },
  {
   "cell_type": "markdown",
   "metadata": {},
   "source": [
    "Independence tests for generator:"
   ]
  },
  {
   "cell_type": "code",
   "execution_count": 269,
   "metadata": {},
   "outputs": [
    {
     "name": "stdout",
     "output_type": "stream",
     "text": [
      "3980\n"
     ]
    }
   ],
   "source": [
    "# Wald-Wolfowitz test\n",
    "med = np.median(u)\n",
    "rover =0 \n",
    "runder = 0\n",
    "under =False\n",
    "over = False\n",
    "for i in range(sample_size):\n",
    "\n",
    "    if u[i]<med and under ==False:\n",
    "        runder=runder+1\n",
    "        under = True\n",
    "        over =False\n",
    "\n",
    "    if u[i]>med and over ==False:\n",
    "        rover=rover+1\n",
    "        over =True\n",
    "        under =False\n",
    "    \n",
    "T =rover+runder\n",
    "print(T)\n"
   ]
  },
  {
   "cell_type": "code",
   "execution_count": 288,
   "metadata": {},
   "outputs": [],
   "source": [
    "# Up/Down from knuth: \n",
    "status = None\n",
    "runlength =[]\n",
    "count = 0\n",
    "for i in range(1,sample_size):\n",
    "    count=count+1\n",
    "    if u[i] > u[i-1] and status != True:\n",
    "        runlength.append(count)\n",
    "        count=0\n",
    "        status = False\n",
    "    if u[i]<u[i-1] and status != False:\n",
    "        runlength.append(count)\n",
    "        count=0\n",
    "        status = True"
   ]
  },
  {
   "cell_type": "code",
   "execution_count": 292,
   "metadata": {},
   "outputs": [
    {
     "name": "stdout",
     "output_type": "stream",
     "text": [
      "z-value:  357.82273527886036\n"
     ]
    },
    {
     "data": {
      "text/plain": [
       "[<matplotlib.lines.Line2D at 0x12d3d54a8>]"
      ]
     },
     "execution_count": 292,
     "metadata": {},
     "output_type": "execute_result"
    },
    {
     "data": {
      "image/png": "[encoded data removed]",
      "text/plain": [
       "<Figure size 432x288 with 1 Axes>"
      ]
     },
     "metadata": {
      "needs_background": "light"
     },
     "output_type": "display_data"
    }
   ],
   "source": [
    "n = sample_size\n",
    "[values,count] = np.unique(runlength,return_counts=True)\n",
    "\n",
    "\n",
    "if np.shape(count)[0] != 6:\n",
    "    R = np.append(count[0:5],sum(count[5:]))\n",
    "else:\n",
    "    R =count\n",
    "\n",
    "A = [[4529.4 ,9044.9, 13568 ,18091, 22615, 27892],\n",
    "[9044.9, 18097 ,27139, 36187, 45234, 55789],\n",
    "[13568, 27139, 40721, 54281, 67852, 83685],\n",
    "[18091 ,36187, 54281, 72414, 90470, 111580],\n",
    "[22615, 45234, 67852, 90470, 113262, 139476],\n",
    "[27892 ,55789, 83685, 111580, 139476, 172860]]\n",
    "A =np.asarray(A)\n",
    "\n",
    "B = [1/6,5/24,11/120,19/720,29/5040,1/840]\n",
    "B = np.asarray(B)\n",
    "\n",
    "z = 1/(n-6) * (R-n*B).T  @(  A@(R-n*B) )\n",
    "print(\"z-value: \",z)\n",
    "\n",
    "idx = np.linspace(0,1000)\n",
    "plt.plot(idx, chi2.pdf(idx, df=6))\n"
   ]
  },
  {
   "cell_type": "code",
   "execution_count": 297,
   "metadata": {},
   "outputs": [],
   "source": [
    "# The-Up-and-Down Test: \n",
    "runs = 0 \n",
    "state = None\n",
    "runlength=[]\n",
    "for i in range(sample_size):\n",
    "\n",
    "    count=count+1\n",
    "    if u[i] > u[i-1] and status != True:\n",
    "        runlength.append(count)\n",
    "        count=0\n",
    "        status = False\n",
    "    if u[i]<u[i-1] and status != False:\n",
    "        runlength.append(count)\n",
    "        count=0\n",
    "        status = True\n",
    "\n",
    "runs = np.shape(runlength)[0]\n"
   ]
  },
  {
   "cell_type": "code",
   "execution_count": 287,
   "metadata": {},
   "outputs": [
    {
     "data": {
      "text/plain": [
       "[<matplotlib.lines.Line2D at 0x128de1dd8>]"
      ]
     },
     "execution_count": 287,
     "metadata": {},
     "output_type": "execute_result"
    },
    {
     "data": {
      "image/png": "[encoded data removed]",
      "text/plain": [
       "<Figure size 432x288 with 1 Axes>"
      ]
     },
     "metadata": {
      "needs_background": "light"
     },
     "output_type": "display_data"
    }
   ],
   "source": [
    "# Correlation test:\n",
    "h = 2\n",
    "sum = 0\n",
    "for i in range(n-h):\n",
    "    sum = sum + u[i]*u[i+h]\n",
    "\n",
    "ch = 1/(n-h)*sum\n",
    "\n",
    "mu = 0.25\n",
    "idx =np.linspace(mu-0.0001,mu+0.0001,n)\n",
    "sigma = 7/(144*n)\n",
    "\n",
    "plt.plot(idx,norm.pdf(idx, mu, sigma))\n"
   ]
  },
  {
   "cell_type": "code",
   "execution_count": null,
   "metadata": {},
   "outputs": [],
   "source": []
  }
 ],
 "metadata": {
  "interpreter": {
   "hash": "9430fa962368ed4387251a9d1485ac69452138ff4fccfa03223f275ccfdee3b3"
  },
  "kernelspec": {
   "display_name": "Python 3.7.3 ('base')",
   "language": "python",
   "name": "python3"
  },
  "language_info": {
   "codemirror_mode": {
    "name": "ipython",
    "version": 3
   },
   "file_extension": ".py",
   "mimetype": "text/x-python",
   "name": "python",
   "nbconvert_exporter": "python",
   "pygments_lexer": "ipython3",
   "version": "3.7.3"
  },
  "orig_nbformat": 4
 },
 "nbformat": 4,
 "nbformat_minor": 2
}
