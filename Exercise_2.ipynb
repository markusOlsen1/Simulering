{
 "cells": [
  {
   "cell_type": "code",
   "execution_count": 50,
   "metadata": {},
   "outputs": [],
   "source": [
    "%reset\n",
    "import random\n",
    "import numpy as np\n",
    "import matplotlib.pyplot as plt\n",
    "random.seed(1)\n"
   ]
  },
  {
   "cell_type": "markdown",
   "metadata": {},
   "source": [
    "Discrete random variables\n",
    "In the excercise you can use a build in procedure for generating\n",
    "random numbers. Compare the results obtained in simulations with\n",
    "expected results. Use histograms (and tests).\n",
    "1. Choose a value for the probability parameter p in the geometric\n",
    "distribution and simulate 10,000 outcomes. You can experiment\n",
    "with a small, moderate and large value if you like.\n",
    "2. Simulate the 6 point distribution with\n",
    "X 1 2 3 4 5 6\n",
    "pi 7/48 5/48 1/8 1/16 1/4 5/16\n",
    "(a) by applying a direct (crude) method\n",
    "\n",
    "(b) by using the the rejction method\n",
    "(c) by using the Alias method\n",
    "3. Compare the three different methods using adequate criteria,\n",
    "then discuss the results.\n",
    "4. Give recommendations of how to choose the best suited\n",
    "method in different settings, i.e., discuss the advantages and\n",
    "drawbacks of each method. If time permits substantiate by\n",
    "running experiments."
   ]
  },
  {
   "cell_type": "code",
   "execution_count": 51,
   "metadata": {},
   "outputs": [
    {
     "data": {
      "image/png": "[encoded data removed]",
      "text/plain": [
       "<Figure size 432x288 with 1 Axes>"
      ]
     },
     "metadata": {
      "needs_background": "light"
     },
     "output_type": "display_data"
    }
   ],
   "source": [
    "#generate numbers with chosen p: \n",
    "p = 0.5\n",
    "sample_size = 10000\n",
    "r = np.random.geometric(p,sample_size)\n",
    "\n",
    "(n,bins,patches) = plt.hist(r,bins =10)"
   ]
  },
  {
   "cell_type": "code",
   "execution_count": 52,
   "metadata": {},
   "outputs": [
    {
     "name": "stdout",
     "output_type": "stream",
     "text": [
      "1\n",
      "5000.0\n",
      "2\n",
      "2500.0\n",
      "3\n",
      "1250.0\n",
      "4\n",
      "625.0\n",
      "5\n",
      "312.5\n",
      "6\n",
      "156.25\n",
      "7\n",
      "78.125\n",
      "8\n",
      "39.0625\n",
      "9\n",
      "19.53125\n",
      "10\n",
      "9.765625\n",
      "2520.2237750000004\n"
     ]
    }
   ],
   "source": [
    "# Testing with chi^2 test: \n",
    "\n",
    "classes = np.shape(bins)[0]-1\n",
    "\n",
    "chi =0\n",
    "for i in range(1,classes+1):\n",
    "    n_expected = (1-p)**(i-1)*p * sample_size\n",
    "    chi = chi+((n[i-1]-n_expected)**2)/n_expected\n",
    "\n",
    "print(chi)\n",
    "\n"
   ]
  },
  {
   "cell_type": "code",
   "execution_count": 83,
   "metadata": {},
   "outputs": [],
   "source": [
    "# simulate the 6 datapoints: \n",
    "X = [i for i in range(1,7)]\n",
    "p = [7/48,5/48,1/8,1/16,1/4,5/16]"
   ]
  },
  {
   "cell_type": "code",
   "execution_count": 54,
   "metadata": {},
   "outputs": [
    {
     "data": {
      "image/png": "[encoded data removed]",
      "text/plain": [
       "<Figure size 432x288 with 1 Axes>"
      ]
     },
     "metadata": {
      "needs_background": "light"
     },
     "output_type": "display_data"
    }
   ],
   "source": [
    "#simulate uniform distribution:\n",
    "\n",
    "interval=np.zeros(6)\n",
    "interval[0]=p[0]\n",
    "for i in range(1,6):\n",
    "    interval[i] = p[i]+interval[i-1]\n",
    "\n",
    "uni = np.random.uniform(0,1,sample_size)\n",
    "for i in range (sample_size):\n",
    "    for j in range(6):\n",
    "        if uni[i]<interval[j]:\n",
    "            uni[i]=j+1\n",
    "(n,bins,patches)=plt.hist(uni,bins=6)"
   ]
  },
  {
   "cell_type": "code",
   "execution_count": 55,
   "metadata": {},
   "outputs": [
    {
     "name": "stdout",
     "output_type": "stream",
     "text": [
      "4.121862857142866\n"
     ]
    }
   ],
   "source": [
    "# Testing with chi^2 test for p distribution: \n",
    "classes = 6\n",
    "\n",
    "chi =0\n",
    "for i in range(1,classes+1):\n",
    "    n_expected = p[i-1]*sample_size\n",
    "    chi = chi+((n[i-1]-n_expected)**2)/n_expected\n",
    "    \n",
    "print(chi)\n",
    "\n"
   ]
  },
  {
   "cell_type": "code",
   "execution_count": 76,
   "metadata": {},
   "outputs": [
    {
     "data": {
      "image/png": "[encoded data removed]",
      "text/plain": [
       "<Figure size 432x288 with 1 Axes>"
      ]
     },
     "metadata": {
      "needs_background": "light"
     },
     "output_type": "display_data"
    }
   ],
   "source": [
    "# Rejection method: \n",
    "\n",
    "U1 = np.random.uniform(0,1,sample_size)\n",
    "U2 = np.random.uniform(0,1,sample_size)\n",
    "q = []\n",
    "num =[]\n",
    "for i in range(len(p)):\n",
    "    q.append(1-p[i])\n",
    "    num.append(p[i]/q[i])\n",
    "max(num)\n",
    "c=0.45\n",
    "acc = 0\n",
    "V=[]\n",
    "while acc <sample_size:\n",
    "    x = np.random.uniform(0,1)\n",
    "    y= np.random.uniform(0,1)\n",
    "    for i in range(len(q)):\n",
    "        if y<p[i]/(c*q[i]):\n",
    "            acc =acc +1\n",
    "            V.append(i+1)\n",
    "(n,bins,patches)=plt.hist(V,bins=6)\n"
   ]
  },
  {
   "cell_type": "code",
   "execution_count": 77,
   "metadata": {},
   "outputs": [
    {
     "name": "stdout",
     "output_type": "stream",
     "text": [
      "91.63889142857147\n"
     ]
    }
   ],
   "source": [
    "#Chi i anden test for forigående generator:\n",
    "# # Testing with chi^2 test for p distribution: \n",
    "classes = 6\n",
    "\n",
    "chi =0\n",
    "for i in range(1,classes+1):\n",
    "    n_expected = p[i-1]*sample_size\n",
    "    chi = chi+((n[i-1]-n_expected)**2)/n_expected\n",
    "    \n",
    "print(chi)\n",
    "\n",
    " "
   ]
  },
  {
   "cell_type": "code",
   "execution_count": 132,
   "metadata": {},
   "outputs": [
    {
     "data": {
      "text/plain": [
       "(array([1488.,  988., 1262.,  654., 2474., 3134.]),\n",
       " array([0.        , 0.83333333, 1.66666667, 2.5       , 3.33333333,\n",
       "        4.16666667, 5.        ]),\n",
       " <BarContainer object of 6 artists>)"
      ]
     },
     "execution_count": 132,
     "metadata": {},
     "output_type": "execute_result"
    },
    {
     "data": {
      "image/png": "[encoded data removed]",
      "text/plain": [
       "<Figure size 432x288 with 1 Axes>"
      ]
     },
     "metadata": {
      "needs_background": "light"
     },
     "output_type": "display_data"
    }
   ],
   "source": [
    "# Alias method: \n",
    "p = [7/48,5/48,1/8,1/16,1/4,5/16]\n",
    "k = len(p)\n",
    "F = np.zeros(k)\n",
    "L = np.zeros(k,dtype=np.int16)\n",
    "\n",
    "s =[]\n",
    "g =[]\n",
    "for i,p in enumerate(p):\n",
    "    F[i] = p*k\n",
    "\n",
    "    if F[i]>=1:\n",
    "        g.append(i)\n",
    "    if F[i] <=1:\n",
    "        s.append(i)\n",
    "count =0\n",
    "while len(s)>0:\n",
    "\n",
    "    i=g[0]\n",
    "    j=s[0]\n",
    "\n",
    "    L[j]=i\n",
    "    F[i]=F[i]-(1-F[j])\n",
    "    \n",
    "    if F[i] < 1:\n",
    "        s.append(i)\n",
    "    else:\n",
    "        g.append(i)\n",
    "        \n",
    "    s.pop(0)\n",
    "    g.pop(0)\n",
    "    count=count+1\n",
    "rand = []\n",
    "for i in range(sample_size):\n",
    "    U1 = np.random.uniform(0,1)\n",
    "    U2 = np.random.uniform(0,1)\n",
    "    I = int(np.floor(U1*k))\n",
    "    if U2 <=F[I]:\n",
    "        rand.append(I)\n",
    "    else:\n",
    "        rand.append(L[I])\n",
    "\n",
    "plt.hist(rand,bins=6)\n"
   ]
  },
  {
   "cell_type": "code",
   "execution_count": 57,
   "metadata": {},
   "outputs": [
    {
     "data": {
      "image/png": "[encoded data removed]",
      "text/plain": [
       "<Figure size 432x288 with 2 Axes>"
      ]
     },
     "metadata": {
      "needs_background": "light"
     },
     "output_type": "display_data"
    }
   ],
   "source": [
    "# generate simulated values for each distribution:\n",
    "\n",
    "## Normal distribution using box-muller\n",
    "\n",
    "R = np.sqrt(-2 * np.log(U1))\n",
    "theta = 2 * np.pi * U2\n",
    "\n",
    "X = R * np.cos(theta)\n",
    "Y = R * np.sin(theta)\n",
    "\n",
    "fig,(ax1,ax2) = plt.subplots(1,2)\n",
    "hist = ax1.hist(X)\n",
    "hist = ax2.hist(Y)\n",
    "plt.show()"
   ]
  },
  {
   "cell_type": "code",
   "execution_count": 58,
   "metadata": {},
   "outputs": [
    {
     "data": {
      "text/plain": [
       "(array([5346., 2485., 1140.,  547.,  258.,  112.,   52.,   34.,   20.,\n",
       "           6.]),\n",
       " array([2.77050867e-04, 1.91522990e+00, 3.83018274e+00, 5.74513559e+00,\n",
       "        7.66008844e+00, 9.57504128e+00, 1.14899941e+01, 1.34049470e+01,\n",
       "        1.53198998e+01, 1.72348527e+01, 1.91498055e+01]),\n",
       " <BarContainer object of 10 artists>)"
      ]
     },
     "execution_count": 58,
     "metadata": {},
     "output_type": "execute_result"
    },
    {
     "data": {
      "image/png": "[encoded data removed]",
      "text/plain": [
       "<Figure size 432x288 with 1 Axes>"
      ]
     },
     "metadata": {
      "needs_background": "light"
     },
     "output_type": "display_data"
    }
   ],
   "source": [
    "#Exponential distribution \n",
    "\n",
    "lamb = 0.4\n",
    "X = -np.log(U1)/lamb\n",
    "\n",
    "plt.hist(X)"
   ]
  },
  {
   "cell_type": "code",
   "execution_count": null,
   "metadata": {},
   "outputs": [],
   "source": []
  }
 ],
 "metadata": {
  "interpreter": {
   "hash": "9430fa962368ed4387251a9d1485ac69452138ff4fccfa03223f275ccfdee3b3"
  },
  "kernelspec": {
   "display_name": "Python 3.7.3 ('base')",
   "language": "python",
   "name": "python3"
  },
  "language_info": {
   "codemirror_mode": {
    "name": "ipython",
    "version": 3
   },
   "file_extension": ".py",
   "mimetype": "text/x-python",
   "name": "python",
   "nbconvert_exporter": "python",
   "pygments_lexer": "ipython3",
   "version": "3.7.3"
  },
  "orig_nbformat": 4
 },
 "nbformat": 4,
 "nbformat_minor": 2
}
